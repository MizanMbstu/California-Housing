{
 "cells": [
  {
   "cell_type": "markdown",
   "id": "b9c6503c",
   "metadata": {},
   "source": [
    "<h1> Housing Prices in California</h1>"
   ]
  },
  {
   "cell_type": "markdown",
   "id": "c1bcc367",
   "metadata": {},
   "source": [
    "Import dataset"
   ]
  },
  {
   "cell_type": "code",
   "execution_count": 1,
   "id": "5283807a",
   "metadata": {},
   "outputs": [],
   "source": [
    "dataset <- read.csv(\"housing.csv\")"
   ]
  },
  {
   "cell_type": "markdown",
   "id": "8bf8905e",
   "metadata": {},
   "source": [
    "Check the dataset"
   ]
  },
  {
   "cell_type": "code",
   "execution_count": 2,
   "id": "e78ac31c",
   "metadata": {},
   "outputs": [
    {
     "data": {
      "text/html": [
       "<table class=\"dataframe\">\n",
       "<caption>A data.frame: 6 × 10</caption>\n",
       "<thead>\n",
       "\t<tr><th></th><th scope=col>longitude</th><th scope=col>latitude</th><th scope=col>housing_median_age</th><th scope=col>total_rooms</th><th scope=col>total_bedrooms</th><th scope=col>population</th><th scope=col>households</th><th scope=col>median_income</th><th scope=col>median_house_value</th><th scope=col>ocean_proximity</th></tr>\n",
       "\t<tr><th></th><th scope=col>&lt;dbl&gt;</th><th scope=col>&lt;dbl&gt;</th><th scope=col>&lt;dbl&gt;</th><th scope=col>&lt;dbl&gt;</th><th scope=col>&lt;dbl&gt;</th><th scope=col>&lt;dbl&gt;</th><th scope=col>&lt;dbl&gt;</th><th scope=col>&lt;dbl&gt;</th><th scope=col>&lt;dbl&gt;</th><th scope=col>&lt;chr&gt;</th></tr>\n",
       "</thead>\n",
       "<tbody>\n",
       "\t<tr><th scope=row>1</th><td>-122.23</td><td>37.88</td><td>41</td><td> 880</td><td> 129</td><td> 322</td><td> 126</td><td>8.3252</td><td>452600</td><td>NEAR BAY</td></tr>\n",
       "\t<tr><th scope=row>2</th><td>-122.22</td><td>37.86</td><td>21</td><td>7099</td><td>1106</td><td>2401</td><td>1138</td><td>8.3014</td><td>358500</td><td>NEAR BAY</td></tr>\n",
       "\t<tr><th scope=row>3</th><td>-122.24</td><td>37.85</td><td>52</td><td>1467</td><td> 190</td><td> 496</td><td> 177</td><td>7.2574</td><td>352100</td><td>NEAR BAY</td></tr>\n",
       "\t<tr><th scope=row>4</th><td>-122.25</td><td>37.85</td><td>52</td><td>1274</td><td> 235</td><td> 558</td><td> 219</td><td>5.6431</td><td>341300</td><td>NEAR BAY</td></tr>\n",
       "\t<tr><th scope=row>5</th><td>-122.25</td><td>37.85</td><td>52</td><td>1627</td><td> 280</td><td> 565</td><td> 259</td><td>3.8462</td><td>342200</td><td>NEAR BAY</td></tr>\n",
       "\t<tr><th scope=row>6</th><td>-122.25</td><td>37.85</td><td>52</td><td> 919</td><td> 213</td><td> 413</td><td> 193</td><td>4.0368</td><td>269700</td><td>NEAR BAY</td></tr>\n",
       "</tbody>\n",
       "</table>\n"
      ],
      "text/latex": [
       "A data.frame: 6 × 10\n",
       "\\begin{tabular}{r|llllllllll}\n",
       "  & longitude & latitude & housing\\_median\\_age & total\\_rooms & total\\_bedrooms & population & households & median\\_income & median\\_house\\_value & ocean\\_proximity\\\\\n",
       "  & <dbl> & <dbl> & <dbl> & <dbl> & <dbl> & <dbl> & <dbl> & <dbl> & <dbl> & <chr>\\\\\n",
       "\\hline\n",
       "\t1 & -122.23 & 37.88 & 41 &  880 &  129 &  322 &  126 & 8.3252 & 452600 & NEAR BAY\\\\\n",
       "\t2 & -122.22 & 37.86 & 21 & 7099 & 1106 & 2401 & 1138 & 8.3014 & 358500 & NEAR BAY\\\\\n",
       "\t3 & -122.24 & 37.85 & 52 & 1467 &  190 &  496 &  177 & 7.2574 & 352100 & NEAR BAY\\\\\n",
       "\t4 & -122.25 & 37.85 & 52 & 1274 &  235 &  558 &  219 & 5.6431 & 341300 & NEAR BAY\\\\\n",
       "\t5 & -122.25 & 37.85 & 52 & 1627 &  280 &  565 &  259 & 3.8462 & 342200 & NEAR BAY\\\\\n",
       "\t6 & -122.25 & 37.85 & 52 &  919 &  213 &  413 &  193 & 4.0368 & 269700 & NEAR BAY\\\\\n",
       "\\end{tabular}\n"
      ],
      "text/markdown": [
       "\n",
       "A data.frame: 6 × 10\n",
       "\n",
       "| <!--/--> | longitude &lt;dbl&gt; | latitude &lt;dbl&gt; | housing_median_age &lt;dbl&gt; | total_rooms &lt;dbl&gt; | total_bedrooms &lt;dbl&gt; | population &lt;dbl&gt; | households &lt;dbl&gt; | median_income &lt;dbl&gt; | median_house_value &lt;dbl&gt; | ocean_proximity &lt;chr&gt; |\n",
       "|---|---|---|---|---|---|---|---|---|---|---|\n",
       "| 1 | -122.23 | 37.88 | 41 |  880 |  129 |  322 |  126 | 8.3252 | 452600 | NEAR BAY |\n",
       "| 2 | -122.22 | 37.86 | 21 | 7099 | 1106 | 2401 | 1138 | 8.3014 | 358500 | NEAR BAY |\n",
       "| 3 | -122.24 | 37.85 | 52 | 1467 |  190 |  496 |  177 | 7.2574 | 352100 | NEAR BAY |\n",
       "| 4 | -122.25 | 37.85 | 52 | 1274 |  235 |  558 |  219 | 5.6431 | 341300 | NEAR BAY |\n",
       "| 5 | -122.25 | 37.85 | 52 | 1627 |  280 |  565 |  259 | 3.8462 | 342200 | NEAR BAY |\n",
       "| 6 | -122.25 | 37.85 | 52 |  919 |  213 |  413 |  193 | 4.0368 | 269700 | NEAR BAY |\n",
       "\n"
      ],
      "text/plain": [
       "  longitude latitude housing_median_age total_rooms total_bedrooms population\n",
       "1 -122.23   37.88    41                  880         129            322      \n",
       "2 -122.22   37.86    21                 7099        1106           2401      \n",
       "3 -122.24   37.85    52                 1467         190            496      \n",
       "4 -122.25   37.85    52                 1274         235            558      \n",
       "5 -122.25   37.85    52                 1627         280            565      \n",
       "6 -122.25   37.85    52                  919         213            413      \n",
       "  households median_income median_house_value ocean_proximity\n",
       "1  126       8.3252        452600             NEAR BAY       \n",
       "2 1138       8.3014        358500             NEAR BAY       \n",
       "3  177       7.2574        352100             NEAR BAY       \n",
       "4  219       5.6431        341300             NEAR BAY       \n",
       "5  259       3.8462        342200             NEAR BAY       \n",
       "6  193       4.0368        269700             NEAR BAY       "
      ]
     },
     "metadata": {},
     "output_type": "display_data"
    }
   ],
   "source": [
    "head(dataset)"
   ]
  },
  {
   "cell_type": "code",
   "execution_count": 3,
   "id": "387a1bad",
   "metadata": {},
   "outputs": [
    {
     "data": {
      "text/plain": [
       "   longitude         latitude     housing_median_age  total_rooms   \n",
       " Min.   :-124.3   Min.   :32.54   Min.   : 1.00      Min.   :    2  \n",
       " 1st Qu.:-121.8   1st Qu.:33.93   1st Qu.:18.00      1st Qu.: 1448  \n",
       " Median :-118.5   Median :34.26   Median :29.00      Median : 2127  \n",
       " Mean   :-119.6   Mean   :35.63   Mean   :28.64      Mean   : 2636  \n",
       " 3rd Qu.:-118.0   3rd Qu.:37.71   3rd Qu.:37.00      3rd Qu.: 3148  \n",
       " Max.   :-114.3   Max.   :41.95   Max.   :52.00      Max.   :39320  \n",
       "                                                                    \n",
       " total_bedrooms     population      households     median_income    \n",
       " Min.   :   1.0   Min.   :    3   Min.   :   1.0   Min.   : 0.4999  \n",
       " 1st Qu.: 296.0   1st Qu.:  787   1st Qu.: 280.0   1st Qu.: 2.5634  \n",
       " Median : 435.0   Median : 1166   Median : 409.0   Median : 3.5348  \n",
       " Mean   : 537.9   Mean   : 1425   Mean   : 499.5   Mean   : 3.8707  \n",
       " 3rd Qu.: 647.0   3rd Qu.: 1725   3rd Qu.: 605.0   3rd Qu.: 4.7432  \n",
       " Max.   :6445.0   Max.   :35682   Max.   :6082.0   Max.   :15.0001  \n",
       " NA's   :207                                                        \n",
       " median_house_value ocean_proximity   \n",
       " Min.   : 14999     Length:20640      \n",
       " 1st Qu.:119600     Class :character  \n",
       " Median :179700     Mode  :character  \n",
       " Mean   :206856                       \n",
       " 3rd Qu.:264725                       \n",
       " Max.   :500001                       \n",
       "                                      "
      ]
     },
     "metadata": {},
     "output_type": "display_data"
    }
   ],
   "source": [
    "summary(dataset)"
   ]
  },
  {
   "cell_type": "markdown",
   "id": "8a3ab276",
   "metadata": {},
   "source": [
    "<h1> Data preprocessing</h1>"
   ]
  },
  {
   "cell_type": "markdown",
   "id": "54d7d16f",
   "metadata": {},
   "source": [
    "<h3>Missing value treatments </h3>"
   ]
  },
  {
   "cell_type": "code",
   "execution_count": 4,
   "id": "f0144cb5",
   "metadata": {},
   "outputs": [
    {
     "name": "stderr",
     "output_type": "stream",
     "text": [
      "Warning message:\n",
      "\"package 'Amelia' was built under R version 4.1.3\"\n",
      "Loading required package: Rcpp\n",
      "\n",
      "## \n",
      "## Amelia II: Multiple Imputation\n",
      "## (Version 1.8.0, built: 2021-05-26)\n",
      "## Copyright (C) 2005-2022 James Honaker, Gary King and Matthew Blackwell\n",
      "## Refer to http://gking.harvard.edu/amelia/ for more information\n",
      "## \n",
      "\n"
     ]
    },
    {
     "data": {
      "image/png": "[encoded data removed]",
      "text/plain": [
       "Plot with title \"House Pricing dataset:Missmap\""
      ]
     },
     "metadata": {
      "image/png": {
       "height": 420,
       "width": 420
      }
     },
     "output_type": "display_data"
    }
   ],
   "source": [
    "library(Amelia)\n",
    "missmap(dataset,col=c(\"yellow\",\"black\"),main=\"House Pricing dataset:Missmap\")"
   ]
  },
  {
   "cell_type": "markdown",
   "id": "43448302",
   "metadata": {},
   "source": [
    "Here **total_bedrooms** variable contains missing values.Now find how many missing values contain the total_bedrooms variable and check the distrbution of total_bedrooms variable"
   ]
  },
  {
   "cell_type": "code",
   "execution_count": 5,
   "id": "1c86ee01",
   "metadata": {},
   "outputs": [
    {
     "data": {
      "text/plain": [
       "   Min. 1st Qu.  Median    Mean 3rd Qu.    Max.    NA's \n",
       "    1.0   296.0   435.0   537.9   647.0  6445.0     207 "
      ]
     },
     "metadata": {},
     "output_type": "display_data"
    }
   ],
   "source": [
    "summary(dataset$total_bedrooms)"
   ]
  },
  {
   "cell_type": "code",
   "execution_count": 6,
   "id": "f90f007a",
   "metadata": {},
   "outputs": [
    {
     "data": {
      "image/png": "[encoded data removed]",
      "text/plain": [
       "Plot with title \"Histogram of dataset$total_bedrooms\""
      ]
     },
     "metadata": {
      "image/png": {
       "height": 420,
       "width": 420
      }
     },
     "output_type": "display_data"
    }
   ],
   "source": [
    "hist(dataset$total_bedrooms,col=\"slateblue1\")"
   ]
  },
  {
   "cell_type": "markdown",
   "id": "83aca3a7",
   "metadata": {},
   "source": [
    "There are **207** missing values and data is positively skewed.So we may replace missing values with **median**."
   ]
  },
  {
   "cell_type": "code",
   "execution_count": 7,
   "id": "0f1223fa",
   "metadata": {},
   "outputs": [],
   "source": [
    "dataset$total_bedrooms <- ifelse(is.na(dataset$total_bedrooms),\n",
    "                                median(dataset$total_bedrooms,na.rm=T),\n",
    "                                dataset$total_bedrooms)"
   ]
  },
  {
   "cell_type": "code",
   "execution_count": 8,
   "id": "b6c519ac",
   "metadata": {},
   "outputs": [
    {
     "data": {
      "image/png": "[encoded data removed]",
      "text/plain": [
       "Plot with title \"House Pricing dataset:Missmap\""
      ]
     },
     "metadata": {
      "image/png": {
       "height": 420,
       "width": 420
      }
     },
     "output_type": "display_data"
    }
   ],
   "source": [
    "missmap(dataset,col=c(\"yellow\",\"black\"),main=\"House Pricing dataset:Missmap\")"
   ]
  },
  {
   "cell_type": "markdown",
   "id": "8705fefb",
   "metadata": {},
   "source": [
    "Now there is no missing values in the dataset "
   ]
  },
  {
   "cell_type": "markdown",
   "id": "08075c85",
   "metadata": {},
   "source": [
    "<h3>Categorical Data</h3>"
   ]
  },
  {
   "cell_type": "code",
   "execution_count": 9,
   "id": "acd9e9f7",
   "metadata": {},
   "outputs": [
    {
     "data": {
      "text/plain": [
       "\n",
       " <1H OCEAN     INLAND     ISLAND   NEAR BAY NEAR OCEAN \n",
       "      9136       6551          5       2290       2658 "
      ]
     },
     "metadata": {},
     "output_type": "display_data"
    }
   ],
   "source": [
    "table(dataset$ocean_proximity)"
   ]
  },
  {
   "cell_type": "markdown",
   "id": "b99fd40f",
   "metadata": {},
   "source": [
    "Make dummy variables "
   ]
  },
  {
   "cell_type": "code",
   "execution_count": 10,
   "id": "dcf2c782",
   "metadata": {},
   "outputs": [],
   "source": [
    "cat_data <- data.frame(ocean_proximity= dataset$ocean_proximity)\n",
    "cat_data$one_H_OCEAN <- ifelse(dataset$ocean_proximity==\"<1H OCEAN\",1,0)\n",
    "cat_data$INLAND <-ifelse(dataset$ocean_proximity==\"INLAND\",1,0)\n",
    "cat_data$NEAR_BAY <-ifelse(dataset$ocean_proximity==\"NEAR BAY\",1,0)\n",
    "cat_data$NEAR_OCEAN <-ifelse(dataset$ocean_proximity==\"NEAR OCEAN\",1,0)\n",
    "cat_data$ISLAND <- ifelse(dataset$ocean_proximity==\"ISLAND\",1,0)"
   ]
  },
  {
   "cell_type": "markdown",
   "id": "0ccf0229",
   "metadata": {},
   "source": [
    "<h1>  Exploratory Data Analysis </h1>"
   ]
  },
  {
   "cell_type": "code",
   "execution_count": 11,
   "id": "edffa77a",
   "metadata": {},
   "outputs": [
    {
     "data": {
      "image/png": "[encoded data removed]",
      "text/plain": [
       "Plot with title \"median_house_value\""
      ]
     },
     "metadata": {
      "image/png": {
       "height": 420,
       "width": 420
      }
     },
     "output_type": "display_data"
    }
   ],
   "source": [
    "par(mfrow = c(3, 3))\n",
    "hist(dataset$longitude, main = \"longitude\", col=\"slateblue1\")\n",
    "hist(dataset$latitude, main = \"latitude\", col=\"slateblue1\")\n",
    "hist(dataset$housing_median_age, main = \"housing_median_age\", col=\"slateblue1\")\n",
    "hist(dataset$total_rooms, main = \"total_rooms\", col=\"slateblue1\")\n",
    "hist(dataset$total_bedrooms, main = \"total_bedrooms\", col=\"slateblue1\")\n",
    "hist(dataset$population, main = \"population\", col=\"slateblue1\")\n",
    "hist(dataset$households, main = \"households\", col=\"slateblue1\")\n",
    "hist(dataset$median_income, main = \"median_income\", col=\"slateblue1\")\n",
    "hist(dataset$median_house_value, main = \"median_house_value\", col=\"slateblue1\")"
   ]
  },
  {
   "cell_type": "markdown",
   "id": "ef09d837",
   "metadata": {},
   "source": [
    "Correlation Matrix"
   ]
  },
  {
   "cell_type": "code",
   "execution_count": 12,
   "id": "51af24df",
   "metadata": {},
   "outputs": [
    {
     "data": {
      "text/html": [
       "<table class=\"dataframe\">\n",
       "<caption>A matrix: 9 × 9 of type dbl</caption>\n",
       "<thead>\n",
       "\t<tr><th></th><th scope=col>longitude</th><th scope=col>latitude</th><th scope=col>housing_median_age</th><th scope=col>total_rooms</th><th scope=col>total_bedrooms</th><th scope=col>population</th><th scope=col>households</th><th scope=col>median_income</th><th scope=col>median_house_value</th></tr>\n",
       "</thead>\n",
       "<tbody>\n",
       "\t<tr><th scope=row>longitude</th><td> 1.00</td><td>-0.92</td><td>-0.11</td><td> 0.04</td><td> 0.07</td><td> 0.10</td><td> 0.06</td><td>-0.02</td><td>-0.05</td></tr>\n",
       "\t<tr><th scope=row>latitude</th><td>-0.92</td><td> 1.00</td><td> 0.01</td><td>-0.04</td><td>-0.07</td><td>-0.11</td><td>-0.07</td><td>-0.08</td><td>-0.14</td></tr>\n",
       "\t<tr><th scope=row>housing_median_age</th><td>-0.11</td><td> 0.01</td><td> 1.00</td><td>-0.36</td><td>-0.32</td><td>-0.30</td><td>-0.30</td><td>-0.12</td><td> 0.11</td></tr>\n",
       "\t<tr><th scope=row>total_rooms</th><td> 0.04</td><td>-0.04</td><td>-0.36</td><td> 1.00</td><td> 0.93</td><td> 0.86</td><td> 0.92</td><td> 0.20</td><td> 0.13</td></tr>\n",
       "\t<tr><th scope=row>total_bedrooms</th><td> 0.07</td><td>-0.07</td><td>-0.32</td><td> 0.93</td><td> 1.00</td><td> 0.87</td><td> 0.97</td><td>-0.01</td><td> 0.05</td></tr>\n",
       "\t<tr><th scope=row>population</th><td> 0.10</td><td>-0.11</td><td>-0.30</td><td> 0.86</td><td> 0.87</td><td> 1.00</td><td> 0.91</td><td> 0.00</td><td>-0.02</td></tr>\n",
       "\t<tr><th scope=row>households</th><td> 0.06</td><td>-0.07</td><td>-0.30</td><td> 0.92</td><td> 0.97</td><td> 0.91</td><td> 1.00</td><td> 0.01</td><td> 0.07</td></tr>\n",
       "\t<tr><th scope=row>median_income</th><td>-0.02</td><td>-0.08</td><td>-0.12</td><td> 0.20</td><td>-0.01</td><td> 0.00</td><td> 0.01</td><td> 1.00</td><td> 0.69</td></tr>\n",
       "\t<tr><th scope=row>median_house_value</th><td>-0.05</td><td>-0.14</td><td> 0.11</td><td> 0.13</td><td> 0.05</td><td>-0.02</td><td> 0.07</td><td> 0.69</td><td> 1.00</td></tr>\n",
       "</tbody>\n",
       "</table>\n"
      ],
      "text/latex": [
       "A matrix: 9 × 9 of type dbl\n",
       "\\begin{tabular}{r|lllllllll}\n",
       "  & longitude & latitude & housing\\_median\\_age & total\\_rooms & total\\_bedrooms & population & households & median\\_income & median\\_house\\_value\\\\\n",
       "\\hline\n",
       "\tlongitude &  1.00 & -0.92 & -0.11 &  0.04 &  0.07 &  0.10 &  0.06 & -0.02 & -0.05\\\\\n",
       "\tlatitude & -0.92 &  1.00 &  0.01 & -0.04 & -0.07 & -0.11 & -0.07 & -0.08 & -0.14\\\\\n",
       "\thousing\\_median\\_age & -0.11 &  0.01 &  1.00 & -0.36 & -0.32 & -0.30 & -0.30 & -0.12 &  0.11\\\\\n",
       "\ttotal\\_rooms &  0.04 & -0.04 & -0.36 &  1.00 &  0.93 &  0.86 &  0.92 &  0.20 &  0.13\\\\\n",
       "\ttotal\\_bedrooms &  0.07 & -0.07 & -0.32 &  0.93 &  1.00 &  0.87 &  0.97 & -0.01 &  0.05\\\\\n",
       "\tpopulation &  0.10 & -0.11 & -0.30 &  0.86 &  0.87 &  1.00 &  0.91 &  0.00 & -0.02\\\\\n",
       "\thouseholds &  0.06 & -0.07 & -0.30 &  0.92 &  0.97 &  0.91 &  1.00 &  0.01 &  0.07\\\\\n",
       "\tmedian\\_income & -0.02 & -0.08 & -0.12 &  0.20 & -0.01 &  0.00 &  0.01 &  1.00 &  0.69\\\\\n",
       "\tmedian\\_house\\_value & -0.05 & -0.14 &  0.11 &  0.13 &  0.05 & -0.02 &  0.07 &  0.69 &  1.00\\\\\n",
       "\\end{tabular}\n"
      ],
      "text/markdown": [
       "\n",
       "A matrix: 9 × 9 of type dbl\n",
       "\n",
       "| <!--/--> | longitude | latitude | housing_median_age | total_rooms | total_bedrooms | population | households | median_income | median_house_value |\n",
       "|---|---|---|---|---|---|---|---|---|---|\n",
       "| longitude |  1.00 | -0.92 | -0.11 |  0.04 |  0.07 |  0.10 |  0.06 | -0.02 | -0.05 |\n",
       "| latitude | -0.92 |  1.00 |  0.01 | -0.04 | -0.07 | -0.11 | -0.07 | -0.08 | -0.14 |\n",
       "| housing_median_age | -0.11 |  0.01 |  1.00 | -0.36 | -0.32 | -0.30 | -0.30 | -0.12 |  0.11 |\n",
       "| total_rooms |  0.04 | -0.04 | -0.36 |  1.00 |  0.93 |  0.86 |  0.92 |  0.20 |  0.13 |\n",
       "| total_bedrooms |  0.07 | -0.07 | -0.32 |  0.93 |  1.00 |  0.87 |  0.97 | -0.01 |  0.05 |\n",
       "| population |  0.10 | -0.11 | -0.30 |  0.86 |  0.87 |  1.00 |  0.91 |  0.00 | -0.02 |\n",
       "| households |  0.06 | -0.07 | -0.30 |  0.92 |  0.97 |  0.91 |  1.00 |  0.01 |  0.07 |\n",
       "| median_income | -0.02 | -0.08 | -0.12 |  0.20 | -0.01 |  0.00 |  0.01 |  1.00 |  0.69 |\n",
       "| median_house_value | -0.05 | -0.14 |  0.11 |  0.13 |  0.05 | -0.02 |  0.07 |  0.69 |  1.00 |\n",
       "\n"
      ],
      "text/plain": [
       "                   longitude latitude housing_median_age total_rooms\n",
       "longitude           1.00     -0.92    -0.11               0.04      \n",
       "latitude           -0.92      1.00     0.01              -0.04      \n",
       "housing_median_age -0.11      0.01     1.00              -0.36      \n",
       "total_rooms         0.04     -0.04    -0.36               1.00      \n",
       "total_bedrooms      0.07     -0.07    -0.32               0.93      \n",
       "population          0.10     -0.11    -0.30               0.86      \n",
       "households          0.06     -0.07    -0.30               0.92      \n",
       "median_income      -0.02     -0.08    -0.12               0.20      \n",
       "median_house_value -0.05     -0.14     0.11               0.13      \n",
       "                   total_bedrooms population households median_income\n",
       "longitude           0.07           0.10       0.06      -0.02        \n",
       "latitude           -0.07          -0.11      -0.07      -0.08        \n",
       "housing_median_age -0.32          -0.30      -0.30      -0.12        \n",
       "total_rooms         0.93           0.86       0.92       0.20        \n",
       "total_bedrooms      1.00           0.87       0.97      -0.01        \n",
       "population          0.87           1.00       0.91       0.00        \n",
       "households          0.97           0.91       1.00       0.01        \n",
       "median_income      -0.01           0.00       0.01       1.00        \n",
       "median_house_value  0.05          -0.02       0.07       0.69        \n",
       "                   median_house_value\n",
       "longitude          -0.05             \n",
       "latitude           -0.14             \n",
       "housing_median_age  0.11             \n",
       "total_rooms         0.13             \n",
       "total_bedrooms      0.05             \n",
       "population         -0.02             \n",
       "households          0.07             \n",
       "median_income       0.69             \n",
       "median_house_value  1.00             "
      ]
     },
     "metadata": {},
     "output_type": "display_data"
    }
   ],
   "source": [
    "corr_matrix <- round(cor(dataset[,1:9], ), digits = 2)\n",
    "corr_matrix "
   ]
  },
  {
   "cell_type": "markdown",
   "id": "f4084b3d",
   "metadata": {},
   "source": [
    "Scatter plots for variables"
   ]
  },
  {
   "cell_type": "code",
   "execution_count": 13,
   "id": "ea90f867",
   "metadata": {},
   "outputs": [
    {
     "data": {
      "image/png": "[encoded data removed]",
      "text/plain": [
       "plot without title"
      ]
     },
     "metadata": {
      "image/png": {
       "height": 420,
       "width": 420
      }
     },
     "output_type": "display_data"
    }
   ],
   "source": [
    "par(mfrow = c(1, 1))\n",
    "pairs(dataset[,1:9], col = \"slateblue1\")"
   ]
  },
  {
   "cell_type": "markdown",
   "id": "9f41843d",
   "metadata": {},
   "source": [
    "There is high correlation between “households” and “total_bedrooms”, as well as “households” and “total_rooms”."
   ]
  },
  {
   "cell_type": "markdown",
   "id": "5b115a68",
   "metadata": {},
   "source": [
    "<h1> Feature engineering </h1>"
   ]
  },
  {
   "cell_type": "code",
   "execution_count": 14,
   "id": "955e14ef",
   "metadata": {},
   "outputs": [],
   "source": [
    "dataset$mean_bedrooms = dataset$total_bedrooms/dataset$households\n",
    "dataset$mean_rooms = dataset$total_rooms/dataset$households\n",
    "\n",
    "drops = c('total_bedrooms', 'total_rooms')\n",
    "\n",
    "dataset = dataset[ , !(names(dataset) %in% drops)]"
   ]
  },
  {
   "cell_type": "markdown",
   "id": "d9557c4b",
   "metadata": {},
   "source": [
    "Again check the Correlation Matrix"
   ]
  },
  {
   "cell_type": "code",
   "execution_count": 15,
   "id": "9165f60c",
   "metadata": {},
   "outputs": [
    {
     "data": {
      "text/html": [
       "<table class=\"dataframe\">\n",
       "<caption>A matrix: 9 × 9 of type dbl</caption>\n",
       "<thead>\n",
       "\t<tr><th></th><th scope=col>longitude</th><th scope=col>latitude</th><th scope=col>housing_median_age</th><th scope=col>population</th><th scope=col>households</th><th scope=col>median_income</th><th scope=col>median_house_value</th><th scope=col>mean_bedrooms</th><th scope=col>mean_rooms</th></tr>\n",
       "</thead>\n",
       "<tbody>\n",
       "\t<tr><th scope=row>longitude</th><td> 1.00</td><td>-0.92</td><td>-0.11</td><td> 0.10</td><td> 0.06</td><td>-0.02</td><td>-0.05</td><td> 0.01</td><td>-0.03</td></tr>\n",
       "\t<tr><th scope=row>latitude</th><td>-0.92</td><td> 1.00</td><td> 0.01</td><td>-0.11</td><td>-0.07</td><td>-0.08</td><td>-0.14</td><td> 0.07</td><td> 0.11</td></tr>\n",
       "\t<tr><th scope=row>housing_median_age</th><td>-0.11</td><td> 0.01</td><td> 1.00</td><td>-0.30</td><td>-0.30</td><td>-0.12</td><td> 0.11</td><td>-0.06</td><td>-0.15</td></tr>\n",
       "\t<tr><th scope=row>population</th><td> 0.10</td><td>-0.11</td><td>-0.30</td><td> 1.00</td><td> 0.91</td><td> 0.00</td><td>-0.02</td><td>-0.08</td><td>-0.07</td></tr>\n",
       "\t<tr><th scope=row>households</th><td> 0.06</td><td>-0.07</td><td>-0.30</td><td> 0.91</td><td> 1.00</td><td> 0.01</td><td> 0.07</td><td>-0.07</td><td>-0.08</td></tr>\n",
       "\t<tr><th scope=row>median_income</th><td>-0.02</td><td>-0.08</td><td>-0.12</td><td> 0.00</td><td> 0.01</td><td> 1.00</td><td> 0.69</td><td>-0.05</td><td> 0.33</td></tr>\n",
       "\t<tr><th scope=row>median_house_value</th><td>-0.05</td><td>-0.14</td><td> 0.11</td><td>-0.02</td><td> 0.07</td><td> 0.69</td><td> 1.00</td><td>-0.05</td><td> 0.15</td></tr>\n",
       "\t<tr><th scope=row>mean_bedrooms</th><td> 0.01</td><td> 0.07</td><td>-0.06</td><td>-0.08</td><td>-0.07</td><td>-0.05</td><td>-0.05</td><td> 1.00</td><td> 0.78</td></tr>\n",
       "\t<tr><th scope=row>mean_rooms</th><td>-0.03</td><td> 0.11</td><td>-0.15</td><td>-0.07</td><td>-0.08</td><td> 0.33</td><td> 0.15</td><td> 0.78</td><td> 1.00</td></tr>\n",
       "</tbody>\n",
       "</table>\n"
      ],
      "text/latex": [
       "A matrix: 9 × 9 of type dbl\n",
       "\\begin{tabular}{r|lllllllll}\n",
       "  & longitude & latitude & housing\\_median\\_age & population & households & median\\_income & median\\_house\\_value & mean\\_bedrooms & mean\\_rooms\\\\\n",
       "\\hline\n",
       "\tlongitude &  1.00 & -0.92 & -0.11 &  0.10 &  0.06 & -0.02 & -0.05 &  0.01 & -0.03\\\\\n",
       "\tlatitude & -0.92 &  1.00 &  0.01 & -0.11 & -0.07 & -0.08 & -0.14 &  0.07 &  0.11\\\\\n",
       "\thousing\\_median\\_age & -0.11 &  0.01 &  1.00 & -0.30 & -0.30 & -0.12 &  0.11 & -0.06 & -0.15\\\\\n",
       "\tpopulation &  0.10 & -0.11 & -0.30 &  1.00 &  0.91 &  0.00 & -0.02 & -0.08 & -0.07\\\\\n",
       "\thouseholds &  0.06 & -0.07 & -0.30 &  0.91 &  1.00 &  0.01 &  0.07 & -0.07 & -0.08\\\\\n",
       "\tmedian\\_income & -0.02 & -0.08 & -0.12 &  0.00 &  0.01 &  1.00 &  0.69 & -0.05 &  0.33\\\\\n",
       "\tmedian\\_house\\_value & -0.05 & -0.14 &  0.11 & -0.02 &  0.07 &  0.69 &  1.00 & -0.05 &  0.15\\\\\n",
       "\tmean\\_bedrooms &  0.01 &  0.07 & -0.06 & -0.08 & -0.07 & -0.05 & -0.05 &  1.00 &  0.78\\\\\n",
       "\tmean\\_rooms & -0.03 &  0.11 & -0.15 & -0.07 & -0.08 &  0.33 &  0.15 &  0.78 &  1.00\\\\\n",
       "\\end{tabular}\n"
      ],
      "text/markdown": [
       "\n",
       "A matrix: 9 × 9 of type dbl\n",
       "\n",
       "| <!--/--> | longitude | latitude | housing_median_age | population | households | median_income | median_house_value | mean_bedrooms | mean_rooms |\n",
       "|---|---|---|---|---|---|---|---|---|---|\n",
       "| longitude |  1.00 | -0.92 | -0.11 |  0.10 |  0.06 | -0.02 | -0.05 |  0.01 | -0.03 |\n",
       "| latitude | -0.92 |  1.00 |  0.01 | -0.11 | -0.07 | -0.08 | -0.14 |  0.07 |  0.11 |\n",
       "| housing_median_age | -0.11 |  0.01 |  1.00 | -0.30 | -0.30 | -0.12 |  0.11 | -0.06 | -0.15 |\n",
       "| population |  0.10 | -0.11 | -0.30 |  1.00 |  0.91 |  0.00 | -0.02 | -0.08 | -0.07 |\n",
       "| households |  0.06 | -0.07 | -0.30 |  0.91 |  1.00 |  0.01 |  0.07 | -0.07 | -0.08 |\n",
       "| median_income | -0.02 | -0.08 | -0.12 |  0.00 |  0.01 |  1.00 |  0.69 | -0.05 |  0.33 |\n",
       "| median_house_value | -0.05 | -0.14 |  0.11 | -0.02 |  0.07 |  0.69 |  1.00 | -0.05 |  0.15 |\n",
       "| mean_bedrooms |  0.01 |  0.07 | -0.06 | -0.08 | -0.07 | -0.05 | -0.05 |  1.00 |  0.78 |\n",
       "| mean_rooms | -0.03 |  0.11 | -0.15 | -0.07 | -0.08 |  0.33 |  0.15 |  0.78 |  1.00 |\n",
       "\n"
      ],
      "text/plain": [
       "                   longitude latitude housing_median_age population households\n",
       "longitude           1.00     -0.92    -0.11               0.10       0.06     \n",
       "latitude           -0.92      1.00     0.01              -0.11      -0.07     \n",
       "housing_median_age -0.11      0.01     1.00              -0.30      -0.30     \n",
       "population          0.10     -0.11    -0.30               1.00       0.91     \n",
       "households          0.06     -0.07    -0.30               0.91       1.00     \n",
       "median_income      -0.02     -0.08    -0.12               0.00       0.01     \n",
       "median_house_value -0.05     -0.14     0.11              -0.02       0.07     \n",
       "mean_bedrooms       0.01      0.07    -0.06              -0.08      -0.07     \n",
       "mean_rooms         -0.03      0.11    -0.15              -0.07      -0.08     \n",
       "                   median_income median_house_value mean_bedrooms mean_rooms\n",
       "longitude          -0.02         -0.05               0.01         -0.03     \n",
       "latitude           -0.08         -0.14               0.07          0.11     \n",
       "housing_median_age -0.12          0.11              -0.06         -0.15     \n",
       "population          0.00         -0.02              -0.08         -0.07     \n",
       "households          0.01          0.07              -0.07         -0.08     \n",
       "median_income       1.00          0.69              -0.05          0.33     \n",
       "median_house_value  0.69          1.00              -0.05          0.15     \n",
       "mean_bedrooms      -0.05         -0.05               1.00          0.78     \n",
       "mean_rooms          0.33          0.15               0.78          1.00     "
      ]
     },
     "metadata": {},
     "output_type": "display_data"
    }
   ],
   "source": [
    "corr_matrix <- round(cor(dataset[,-8], ), digits = 2)\n",
    "corr_matrix "
   ]
  },
  {
   "cell_type": "markdown",
   "id": "f87d8cd6",
   "metadata": {},
   "source": [
    "<h3>Feature Scaling</h3>"
   ]
  },
  {
   "cell_type": "code",
   "execution_count": 16,
   "id": "f40ddf77",
   "metadata": {},
   "outputs": [
    {
     "data": {
      "text/html": [
       "<table class=\"dataframe\">\n",
       "<caption>A data.frame: 6 × 8</caption>\n",
       "<thead>\n",
       "\t<tr><th></th><th scope=col>longitude</th><th scope=col>latitude</th><th scope=col>housing_median_age</th><th scope=col>population</th><th scope=col>households</th><th scope=col>median_income</th><th scope=col>mean_bedrooms</th><th scope=col>mean_rooms</th></tr>\n",
       "\t<tr><th></th><th scope=col>&lt;dbl&gt;</th><th scope=col>&lt;dbl&gt;</th><th scope=col>&lt;dbl&gt;</th><th scope=col>&lt;dbl&gt;</th><th scope=col>&lt;dbl&gt;</th><th scope=col>&lt;dbl&gt;</th><th scope=col>&lt;dbl&gt;</th><th scope=col>&lt;dbl&gt;</th></tr>\n",
       "</thead>\n",
       "<tbody>\n",
       "\t<tr><th scope=row>1</th><td>-122.23</td><td>37.88</td><td>41</td><td> 322</td><td> 126</td><td>8.3252</td><td>1.0238095</td><td>6.984127</td></tr>\n",
       "\t<tr><th scope=row>2</th><td>-122.22</td><td>37.86</td><td>21</td><td>2401</td><td>1138</td><td>8.3014</td><td>0.9718805</td><td>6.238137</td></tr>\n",
       "\t<tr><th scope=row>3</th><td>-122.24</td><td>37.85</td><td>52</td><td> 496</td><td> 177</td><td>7.2574</td><td>1.0734463</td><td>8.288136</td></tr>\n",
       "\t<tr><th scope=row>4</th><td>-122.25</td><td>37.85</td><td>52</td><td> 558</td><td> 219</td><td>5.6431</td><td>1.0730594</td><td>5.817352</td></tr>\n",
       "\t<tr><th scope=row>5</th><td>-122.25</td><td>37.85</td><td>52</td><td> 565</td><td> 259</td><td>3.8462</td><td>1.0810811</td><td>6.281853</td></tr>\n",
       "\t<tr><th scope=row>6</th><td>-122.25</td><td>37.85</td><td>52</td><td> 413</td><td> 193</td><td>4.0368</td><td>1.1036269</td><td>4.761658</td></tr>\n",
       "</tbody>\n",
       "</table>\n"
      ],
      "text/latex": [
       "A data.frame: 6 × 8\n",
       "\\begin{tabular}{r|llllllll}\n",
       "  & longitude & latitude & housing\\_median\\_age & population & households & median\\_income & mean\\_bedrooms & mean\\_rooms\\\\\n",
       "  & <dbl> & <dbl> & <dbl> & <dbl> & <dbl> & <dbl> & <dbl> & <dbl>\\\\\n",
       "\\hline\n",
       "\t1 & -122.23 & 37.88 & 41 &  322 &  126 & 8.3252 & 1.0238095 & 6.984127\\\\\n",
       "\t2 & -122.22 & 37.86 & 21 & 2401 & 1138 & 8.3014 & 0.9718805 & 6.238137\\\\\n",
       "\t3 & -122.24 & 37.85 & 52 &  496 &  177 & 7.2574 & 1.0734463 & 8.288136\\\\\n",
       "\t4 & -122.25 & 37.85 & 52 &  558 &  219 & 5.6431 & 1.0730594 & 5.817352\\\\\n",
       "\t5 & -122.25 & 37.85 & 52 &  565 &  259 & 3.8462 & 1.0810811 & 6.281853\\\\\n",
       "\t6 & -122.25 & 37.85 & 52 &  413 &  193 & 4.0368 & 1.1036269 & 4.761658\\\\\n",
       "\\end{tabular}\n"
      ],
      "text/markdown": [
       "\n",
       "A data.frame: 6 × 8\n",
       "\n",
       "| <!--/--> | longitude &lt;dbl&gt; | latitude &lt;dbl&gt; | housing_median_age &lt;dbl&gt; | population &lt;dbl&gt; | households &lt;dbl&gt; | median_income &lt;dbl&gt; | mean_bedrooms &lt;dbl&gt; | mean_rooms &lt;dbl&gt; |\n",
       "|---|---|---|---|---|---|---|---|---|\n",
       "| 1 | -122.23 | 37.88 | 41 |  322 |  126 | 8.3252 | 1.0238095 | 6.984127 |\n",
       "| 2 | -122.22 | 37.86 | 21 | 2401 | 1138 | 8.3014 | 0.9718805 | 6.238137 |\n",
       "| 3 | -122.24 | 37.85 | 52 |  496 |  177 | 7.2574 | 1.0734463 | 8.288136 |\n",
       "| 4 | -122.25 | 37.85 | 52 |  558 |  219 | 5.6431 | 1.0730594 | 5.817352 |\n",
       "| 5 | -122.25 | 37.85 | 52 |  565 |  259 | 3.8462 | 1.0810811 | 6.281853 |\n",
       "| 6 | -122.25 | 37.85 | 52 |  413 |  193 | 4.0368 | 1.1036269 | 4.761658 |\n",
       "\n"
      ],
      "text/plain": [
       "  longitude latitude housing_median_age population households median_income\n",
       "1 -122.23   37.88    41                  322        126       8.3252       \n",
       "2 -122.22   37.86    21                 2401       1138       8.3014       \n",
       "3 -122.24   37.85    52                  496        177       7.2574       \n",
       "4 -122.25   37.85    52                  558        219       5.6431       \n",
       "5 -122.25   37.85    52                  565        259       3.8462       \n",
       "6 -122.25   37.85    52                  413        193       4.0368       \n",
       "  mean_bedrooms mean_rooms\n",
       "1 1.0238095     6.984127  \n",
       "2 0.9718805     6.238137  \n",
       "3 1.0734463     8.288136  \n",
       "4 1.0730594     5.817352  \n",
       "5 1.0810811     6.281853  \n",
       "6 1.1036269     4.761658  "
      ]
     },
     "metadata": {},
     "output_type": "display_data"
    }
   ],
   "source": [
    "num_data <- dataset[,-(7:8)]\n",
    "head(num_data)"
   ]
  },
  {
   "cell_type": "code",
   "execution_count": 17,
   "id": "f25a0634",
   "metadata": {},
   "outputs": [
    {
     "data": {
      "text/html": [
       "<table class=\"dataframe\">\n",
       "<caption>A matrix: 6 × 8 of type dbl</caption>\n",
       "<thead>\n",
       "\t<tr><th scope=col>longitude</th><th scope=col>latitude</th><th scope=col>housing_median_age</th><th scope=col>population</th><th scope=col>households</th><th scope=col>median_income</th><th scope=col>mean_bedrooms</th><th scope=col>mean_rooms</th></tr>\n",
       "</thead>\n",
       "<tbody>\n",
       "\t<tr><td>-1.327803</td><td>1.052523</td><td> 0.9821189</td><td>-0.9744050</td><td>-0.9770092</td><td> 2.34470896</td><td>-0.148510661</td><td> 0.6285442</td></tr>\n",
       "\t<tr><td>-1.322812</td><td>1.043159</td><td>-0.6070042</td><td> 0.8614180</td><td> 1.6699206</td><td> 2.33218146</td><td>-0.248535936</td><td> 0.3270334</td></tr>\n",
       "\t<tr><td>-1.332794</td><td>1.038478</td><td> 1.8561366</td><td>-0.8207575</td><td>-0.8436165</td><td> 1.78265622</td><td>-0.052900657</td><td> 1.1555925</td></tr>\n",
       "\t<tr><td>-1.337785</td><td>1.038478</td><td> 1.8561366</td><td>-0.7660095</td><td>-0.7337637</td><td> 0.93294491</td><td>-0.053646030</td><td> 0.1569623</td></tr>\n",
       "\t<tr><td>-1.337785</td><td>1.038478</td><td> 1.8561366</td><td>-0.7598283</td><td>-0.6291419</td><td>-0.01288068</td><td>-0.038194658</td><td> 0.3447024</td></tr>\n",
       "\t<tr><td>-1.337785</td><td>1.038478</td><td> 1.8561366</td><td>-0.8940491</td><td>-0.8017678</td><td> 0.08744452</td><td> 0.005232996</td><td>-0.2697231</td></tr>\n",
       "</tbody>\n",
       "</table>\n"
      ],
      "text/latex": [
       "A matrix: 6 × 8 of type dbl\n",
       "\\begin{tabular}{llllllll}\n",
       " longitude & latitude & housing\\_median\\_age & population & households & median\\_income & mean\\_bedrooms & mean\\_rooms\\\\\n",
       "\\hline\n",
       "\t -1.327803 & 1.052523 &  0.9821189 & -0.9744050 & -0.9770092 &  2.34470896 & -0.148510661 &  0.6285442\\\\\n",
       "\t -1.322812 & 1.043159 & -0.6070042 &  0.8614180 &  1.6699206 &  2.33218146 & -0.248535936 &  0.3270334\\\\\n",
       "\t -1.332794 & 1.038478 &  1.8561366 & -0.8207575 & -0.8436165 &  1.78265622 & -0.052900657 &  1.1555925\\\\\n",
       "\t -1.337785 & 1.038478 &  1.8561366 & -0.7660095 & -0.7337637 &  0.93294491 & -0.053646030 &  0.1569623\\\\\n",
       "\t -1.337785 & 1.038478 &  1.8561366 & -0.7598283 & -0.6291419 & -0.01288068 & -0.038194658 &  0.3447024\\\\\n",
       "\t -1.337785 & 1.038478 &  1.8561366 & -0.8940491 & -0.8017678 &  0.08744452 &  0.005232996 & -0.2697231\\\\\n",
       "\\end{tabular}\n"
      ],
      "text/markdown": [
       "\n",
       "A matrix: 6 × 8 of type dbl\n",
       "\n",
       "| longitude | latitude | housing_median_age | population | households | median_income | mean_bedrooms | mean_rooms |\n",
       "|---|---|---|---|---|---|---|---|\n",
       "| -1.327803 | 1.052523 |  0.9821189 | -0.9744050 | -0.9770092 |  2.34470896 | -0.148510661 |  0.6285442 |\n",
       "| -1.322812 | 1.043159 | -0.6070042 |  0.8614180 |  1.6699206 |  2.33218146 | -0.248535936 |  0.3270334 |\n",
       "| -1.332794 | 1.038478 |  1.8561366 | -0.8207575 | -0.8436165 |  1.78265622 | -0.052900657 |  1.1555925 |\n",
       "| -1.337785 | 1.038478 |  1.8561366 | -0.7660095 | -0.7337637 |  0.93294491 | -0.053646030 |  0.1569623 |\n",
       "| -1.337785 | 1.038478 |  1.8561366 | -0.7598283 | -0.6291419 | -0.01288068 | -0.038194658 |  0.3447024 |\n",
       "| -1.337785 | 1.038478 |  1.8561366 | -0.8940491 | -0.8017678 |  0.08744452 |  0.005232996 | -0.2697231 |\n",
       "\n"
      ],
      "text/plain": [
       "     longitude latitude housing_median_age population households median_income\n",
       "[1,] -1.327803 1.052523  0.9821189         -0.9744050 -0.9770092  2.34470896  \n",
       "[2,] -1.322812 1.043159 -0.6070042          0.8614180  1.6699206  2.33218146  \n",
       "[3,] -1.332794 1.038478  1.8561366         -0.8207575 -0.8436165  1.78265622  \n",
       "[4,] -1.337785 1.038478  1.8561366         -0.7660095 -0.7337637  0.93294491  \n",
       "[5,] -1.337785 1.038478  1.8561366         -0.7598283 -0.6291419 -0.01288068  \n",
       "[6,] -1.337785 1.038478  1.8561366         -0.8940491 -0.8017678  0.08744452  \n",
       "     mean_bedrooms mean_rooms\n",
       "[1,] -0.148510661   0.6285442\n",
       "[2,] -0.248535936   0.3270334\n",
       "[3,] -0.052900657   1.1555925\n",
       "[4,] -0.053646030   0.1569623\n",
       "[5,] -0.038194658   0.3447024\n",
       "[6,]  0.005232996  -0.2697231"
      ]
     },
     "metadata": {},
     "output_type": "display_data"
    }
   ],
   "source": [
    "num_data <- scale(num_data)\n",
    "head(num_data)"
   ]
  },
  {
   "cell_type": "markdown",
   "id": "0b2e8230",
   "metadata": {},
   "source": [
    "<h3>Marge dataset </h3>"
   ]
  },
  {
   "cell_type": "code",
   "execution_count": 18,
   "id": "6aa69e9c",
   "metadata": {},
   "outputs": [
    {
     "data": {
      "text/html": [
       "<table class=\"dataframe\">\n",
       "<caption>A data.frame: 6 × 14</caption>\n",
       "<thead>\n",
       "\t<tr><th></th><th scope=col>longitude</th><th scope=col>latitude</th><th scope=col>housing_median_age</th><th scope=col>population</th><th scope=col>households</th><th scope=col>median_income</th><th scope=col>mean_bedrooms</th><th scope=col>mean_rooms</th><th scope=col>one_H_OCEAN</th><th scope=col>INLAND</th><th scope=col>NEAR_BAY</th><th scope=col>NEAR_OCEAN</th><th scope=col>ISLAND</th><th scope=col>median_house_value</th></tr>\n",
       "\t<tr><th></th><th scope=col>&lt;dbl&gt;</th><th scope=col>&lt;dbl&gt;</th><th scope=col>&lt;dbl&gt;</th><th scope=col>&lt;dbl&gt;</th><th scope=col>&lt;dbl&gt;</th><th scope=col>&lt;dbl&gt;</th><th scope=col>&lt;dbl&gt;</th><th scope=col>&lt;dbl&gt;</th><th scope=col>&lt;dbl&gt;</th><th scope=col>&lt;dbl&gt;</th><th scope=col>&lt;dbl&gt;</th><th scope=col>&lt;dbl&gt;</th><th scope=col>&lt;dbl&gt;</th><th scope=col>&lt;dbl&gt;</th></tr>\n",
       "</thead>\n",
       "<tbody>\n",
       "\t<tr><th scope=row>1</th><td>-1.327803</td><td>1.052523</td><td> 0.9821189</td><td>-0.9744050</td><td>-0.9770092</td><td> 2.34470896</td><td>-0.148510661</td><td> 0.6285442</td><td>0</td><td>0</td><td>1</td><td>0</td><td>0</td><td>452600</td></tr>\n",
       "\t<tr><th scope=row>2</th><td>-1.322812</td><td>1.043159</td><td>-0.6070042</td><td> 0.8614180</td><td> 1.6699206</td><td> 2.33218146</td><td>-0.248535936</td><td> 0.3270334</td><td>0</td><td>0</td><td>1</td><td>0</td><td>0</td><td>358500</td></tr>\n",
       "\t<tr><th scope=row>3</th><td>-1.332794</td><td>1.038478</td><td> 1.8561366</td><td>-0.8207575</td><td>-0.8436165</td><td> 1.78265622</td><td>-0.052900657</td><td> 1.1555925</td><td>0</td><td>0</td><td>1</td><td>0</td><td>0</td><td>352100</td></tr>\n",
       "\t<tr><th scope=row>4</th><td>-1.337785</td><td>1.038478</td><td> 1.8561366</td><td>-0.7660095</td><td>-0.7337637</td><td> 0.93294491</td><td>-0.053646030</td><td> 0.1569623</td><td>0</td><td>0</td><td>1</td><td>0</td><td>0</td><td>341300</td></tr>\n",
       "\t<tr><th scope=row>5</th><td>-1.337785</td><td>1.038478</td><td> 1.8561366</td><td>-0.7598283</td><td>-0.6291419</td><td>-0.01288068</td><td>-0.038194658</td><td> 0.3447024</td><td>0</td><td>0</td><td>1</td><td>0</td><td>0</td><td>342200</td></tr>\n",
       "\t<tr><th scope=row>6</th><td>-1.337785</td><td>1.038478</td><td> 1.8561366</td><td>-0.8940491</td><td>-0.8017678</td><td> 0.08744452</td><td> 0.005232996</td><td>-0.2697231</td><td>0</td><td>0</td><td>1</td><td>0</td><td>0</td><td>269700</td></tr>\n",
       "</tbody>\n",
       "</table>\n"
      ],
      "text/latex": [
       "A data.frame: 6 × 14\n",
       "\\begin{tabular}{r|llllllllllllll}\n",
       "  & longitude & latitude & housing\\_median\\_age & population & households & median\\_income & mean\\_bedrooms & mean\\_rooms & one\\_H\\_OCEAN & INLAND & NEAR\\_BAY & NEAR\\_OCEAN & ISLAND & median\\_house\\_value\\\\\n",
       "  & <dbl> & <dbl> & <dbl> & <dbl> & <dbl> & <dbl> & <dbl> & <dbl> & <dbl> & <dbl> & <dbl> & <dbl> & <dbl> & <dbl>\\\\\n",
       "\\hline\n",
       "\t1 & -1.327803 & 1.052523 &  0.9821189 & -0.9744050 & -0.9770092 &  2.34470896 & -0.148510661 &  0.6285442 & 0 & 0 & 1 & 0 & 0 & 452600\\\\\n",
       "\t2 & -1.322812 & 1.043159 & -0.6070042 &  0.8614180 &  1.6699206 &  2.33218146 & -0.248535936 &  0.3270334 & 0 & 0 & 1 & 0 & 0 & 358500\\\\\n",
       "\t3 & -1.332794 & 1.038478 &  1.8561366 & -0.8207575 & -0.8436165 &  1.78265622 & -0.052900657 &  1.1555925 & 0 & 0 & 1 & 0 & 0 & 352100\\\\\n",
       "\t4 & -1.337785 & 1.038478 &  1.8561366 & -0.7660095 & -0.7337637 &  0.93294491 & -0.053646030 &  0.1569623 & 0 & 0 & 1 & 0 & 0 & 341300\\\\\n",
       "\t5 & -1.337785 & 1.038478 &  1.8561366 & -0.7598283 & -0.6291419 & -0.01288068 & -0.038194658 &  0.3447024 & 0 & 0 & 1 & 0 & 0 & 342200\\\\\n",
       "\t6 & -1.337785 & 1.038478 &  1.8561366 & -0.8940491 & -0.8017678 &  0.08744452 &  0.005232996 & -0.2697231 & 0 & 0 & 1 & 0 & 0 & 269700\\\\\n",
       "\\end{tabular}\n"
      ],
      "text/markdown": [
       "\n",
       "A data.frame: 6 × 14\n",
       "\n",
       "| <!--/--> | longitude &lt;dbl&gt; | latitude &lt;dbl&gt; | housing_median_age &lt;dbl&gt; | population &lt;dbl&gt; | households &lt;dbl&gt; | median_income &lt;dbl&gt; | mean_bedrooms &lt;dbl&gt; | mean_rooms &lt;dbl&gt; | one_H_OCEAN &lt;dbl&gt; | INLAND &lt;dbl&gt; | NEAR_BAY &lt;dbl&gt; | NEAR_OCEAN &lt;dbl&gt; | ISLAND &lt;dbl&gt; | median_house_value &lt;dbl&gt; |\n",
       "|---|---|---|---|---|---|---|---|---|---|---|---|---|---|---|\n",
       "| 1 | -1.327803 | 1.052523 |  0.9821189 | -0.9744050 | -0.9770092 |  2.34470896 | -0.148510661 |  0.6285442 | 0 | 0 | 1 | 0 | 0 | 452600 |\n",
       "| 2 | -1.322812 | 1.043159 | -0.6070042 |  0.8614180 |  1.6699206 |  2.33218146 | -0.248535936 |  0.3270334 | 0 | 0 | 1 | 0 | 0 | 358500 |\n",
       "| 3 | -1.332794 | 1.038478 |  1.8561366 | -0.8207575 | -0.8436165 |  1.78265622 | -0.052900657 |  1.1555925 | 0 | 0 | 1 | 0 | 0 | 352100 |\n",
       "| 4 | -1.337785 | 1.038478 |  1.8561366 | -0.7660095 | -0.7337637 |  0.93294491 | -0.053646030 |  0.1569623 | 0 | 0 | 1 | 0 | 0 | 341300 |\n",
       "| 5 | -1.337785 | 1.038478 |  1.8561366 | -0.7598283 | -0.6291419 | -0.01288068 | -0.038194658 |  0.3447024 | 0 | 0 | 1 | 0 | 0 | 342200 |\n",
       "| 6 | -1.337785 | 1.038478 |  1.8561366 | -0.8940491 | -0.8017678 |  0.08744452 |  0.005232996 | -0.2697231 | 0 | 0 | 1 | 0 | 0 | 269700 |\n",
       "\n"
      ],
      "text/plain": [
       "  longitude latitude housing_median_age population households median_income\n",
       "1 -1.327803 1.052523  0.9821189         -0.9744050 -0.9770092  2.34470896  \n",
       "2 -1.322812 1.043159 -0.6070042          0.8614180  1.6699206  2.33218146  \n",
       "3 -1.332794 1.038478  1.8561366         -0.8207575 -0.8436165  1.78265622  \n",
       "4 -1.337785 1.038478  1.8561366         -0.7660095 -0.7337637  0.93294491  \n",
       "5 -1.337785 1.038478  1.8561366         -0.7598283 -0.6291419 -0.01288068  \n",
       "6 -1.337785 1.038478  1.8561366         -0.8940491 -0.8017678  0.08744452  \n",
       "  mean_bedrooms mean_rooms one_H_OCEAN INLAND NEAR_BAY NEAR_OCEAN ISLAND\n",
       "1 -0.148510661   0.6285442 0           0      1        0          0     \n",
       "2 -0.248535936   0.3270334 0           0      1        0          0     \n",
       "3 -0.052900657   1.1555925 0           0      1        0          0     \n",
       "4 -0.053646030   0.1569623 0           0      1        0          0     \n",
       "5 -0.038194658   0.3447024 0           0      1        0          0     \n",
       "6  0.005232996  -0.2697231 0           0      1        0          0     \n",
       "  median_house_value\n",
       "1 452600            \n",
       "2 358500            \n",
       "3 352100            \n",
       "4 341300            \n",
       "5 342200            \n",
       "6 269700            "
      ]
     },
     "metadata": {},
     "output_type": "display_data"
    }
   ],
   "source": [
    "clean_data <-cbind(num_data,cat_data[,-1],median_house_value=dataset$median_house_value)\n",
    "head(clean_data)"
   ]
  },
  {
   "cell_type": "markdown",
   "id": "eec682ba",
   "metadata": {},
   "source": [
    "<h3>Split the dataset into training and test set</h3> "
   ]
  },
  {
   "cell_type": "code",
   "execution_count": 19,
   "id": "7557e55a",
   "metadata": {},
   "outputs": [
    {
     "name": "stderr",
     "output_type": "stream",
     "text": [
      "Warning message:\n",
      "\"package 'caTools' was built under R version 4.1.3\"\n"
     ]
    }
   ],
   "source": [
    "library(caTools)\n",
    "set.seed(123)\n",
    "Split <- sample.split(Y = clean_data$median_house_value,SplitRatio = 0.95)\n",
    "training_set <- subset(clean_data,Split==T)\n",
    "test_set <- subset(clean_data,Split==F)"
   ]
  },
  {
   "cell_type": "code",
   "execution_count": 20,
   "id": "119a4b84",
   "metadata": {},
   "outputs": [
    {
     "data": {
      "text/html": [
       "<table class=\"dataframe\">\n",
       "<caption>A data.frame: 6 × 14</caption>\n",
       "<thead>\n",
       "\t<tr><th></th><th scope=col>longitude</th><th scope=col>latitude</th><th scope=col>housing_median_age</th><th scope=col>population</th><th scope=col>households</th><th scope=col>median_income</th><th scope=col>mean_bedrooms</th><th scope=col>mean_rooms</th><th scope=col>one_H_OCEAN</th><th scope=col>INLAND</th><th scope=col>NEAR_BAY</th><th scope=col>NEAR_OCEAN</th><th scope=col>ISLAND</th><th scope=col>median_house_value</th></tr>\n",
       "\t<tr><th></th><th scope=col>&lt;dbl&gt;</th><th scope=col>&lt;dbl&gt;</th><th scope=col>&lt;dbl&gt;</th><th scope=col>&lt;dbl&gt;</th><th scope=col>&lt;dbl&gt;</th><th scope=col>&lt;dbl&gt;</th><th scope=col>&lt;dbl&gt;</th><th scope=col>&lt;dbl&gt;</th><th scope=col>&lt;dbl&gt;</th><th scope=col>&lt;dbl&gt;</th><th scope=col>&lt;dbl&gt;</th><th scope=col>&lt;dbl&gt;</th><th scope=col>&lt;dbl&gt;</th><th scope=col>&lt;dbl&gt;</th></tr>\n",
       "</thead>\n",
       "<tbody>\n",
       "\t<tr><th scope=row>1</th><td>-1.327803</td><td>1.052523</td><td> 0.9821189</td><td>-0.9744050</td><td>-0.9770092</td><td> 2.34470896</td><td>-0.148510661</td><td> 0.6285442</td><td>0</td><td>0</td><td>1</td><td>0</td><td>0</td><td>452600</td></tr>\n",
       "\t<tr><th scope=row>2</th><td>-1.322812</td><td>1.043159</td><td>-0.6070042</td><td> 0.8614180</td><td> 1.6699206</td><td> 2.33218146</td><td>-0.248535936</td><td> 0.3270334</td><td>0</td><td>0</td><td>1</td><td>0</td><td>0</td><td>358500</td></tr>\n",
       "\t<tr><th scope=row>3</th><td>-1.332794</td><td>1.038478</td><td> 1.8561366</td><td>-0.8207575</td><td>-0.8436165</td><td> 1.78265622</td><td>-0.052900657</td><td> 1.1555925</td><td>0</td><td>0</td><td>1</td><td>0</td><td>0</td><td>352100</td></tr>\n",
       "\t<tr><th scope=row>4</th><td>-1.337785</td><td>1.038478</td><td> 1.8561366</td><td>-0.7660095</td><td>-0.7337637</td><td> 0.93294491</td><td>-0.053646030</td><td> 0.1569623</td><td>0</td><td>0</td><td>1</td><td>0</td><td>0</td><td>341300</td></tr>\n",
       "\t<tr><th scope=row>5</th><td>-1.337785</td><td>1.038478</td><td> 1.8561366</td><td>-0.7598283</td><td>-0.6291419</td><td>-0.01288068</td><td>-0.038194658</td><td> 0.3447024</td><td>0</td><td>0</td><td>1</td><td>0</td><td>0</td><td>342200</td></tr>\n",
       "\t<tr><th scope=row>6</th><td>-1.337785</td><td>1.038478</td><td> 1.8561366</td><td>-0.8940491</td><td>-0.8017678</td><td> 0.08744452</td><td> 0.005232996</td><td>-0.2697231</td><td>0</td><td>0</td><td>1</td><td>0</td><td>0</td><td>269700</td></tr>\n",
       "</tbody>\n",
       "</table>\n"
      ],
      "text/latex": [
       "A data.frame: 6 × 14\n",
       "\\begin{tabular}{r|llllllllllllll}\n",
       "  & longitude & latitude & housing\\_median\\_age & population & households & median\\_income & mean\\_bedrooms & mean\\_rooms & one\\_H\\_OCEAN & INLAND & NEAR\\_BAY & NEAR\\_OCEAN & ISLAND & median\\_house\\_value\\\\\n",
       "  & <dbl> & <dbl> & <dbl> & <dbl> & <dbl> & <dbl> & <dbl> & <dbl> & <dbl> & <dbl> & <dbl> & <dbl> & <dbl> & <dbl>\\\\\n",
       "\\hline\n",
       "\t1 & -1.327803 & 1.052523 &  0.9821189 & -0.9744050 & -0.9770092 &  2.34470896 & -0.148510661 &  0.6285442 & 0 & 0 & 1 & 0 & 0 & 452600\\\\\n",
       "\t2 & -1.322812 & 1.043159 & -0.6070042 &  0.8614180 &  1.6699206 &  2.33218146 & -0.248535936 &  0.3270334 & 0 & 0 & 1 & 0 & 0 & 358500\\\\\n",
       "\t3 & -1.332794 & 1.038478 &  1.8561366 & -0.8207575 & -0.8436165 &  1.78265622 & -0.052900657 &  1.1555925 & 0 & 0 & 1 & 0 & 0 & 352100\\\\\n",
       "\t4 & -1.337785 & 1.038478 &  1.8561366 & -0.7660095 & -0.7337637 &  0.93294491 & -0.053646030 &  0.1569623 & 0 & 0 & 1 & 0 & 0 & 341300\\\\\n",
       "\t5 & -1.337785 & 1.038478 &  1.8561366 & -0.7598283 & -0.6291419 & -0.01288068 & -0.038194658 &  0.3447024 & 0 & 0 & 1 & 0 & 0 & 342200\\\\\n",
       "\t6 & -1.337785 & 1.038478 &  1.8561366 & -0.8940491 & -0.8017678 &  0.08744452 &  0.005232996 & -0.2697231 & 0 & 0 & 1 & 0 & 0 & 269700\\\\\n",
       "\\end{tabular}\n"
      ],
      "text/markdown": [
       "\n",
       "A data.frame: 6 × 14\n",
       "\n",
       "| <!--/--> | longitude &lt;dbl&gt; | latitude &lt;dbl&gt; | housing_median_age &lt;dbl&gt; | population &lt;dbl&gt; | households &lt;dbl&gt; | median_income &lt;dbl&gt; | mean_bedrooms &lt;dbl&gt; | mean_rooms &lt;dbl&gt; | one_H_OCEAN &lt;dbl&gt; | INLAND &lt;dbl&gt; | NEAR_BAY &lt;dbl&gt; | NEAR_OCEAN &lt;dbl&gt; | ISLAND &lt;dbl&gt; | median_house_value &lt;dbl&gt; |\n",
       "|---|---|---|---|---|---|---|---|---|---|---|---|---|---|---|\n",
       "| 1 | -1.327803 | 1.052523 |  0.9821189 | -0.9744050 | -0.9770092 |  2.34470896 | -0.148510661 |  0.6285442 | 0 | 0 | 1 | 0 | 0 | 452600 |\n",
       "| 2 | -1.322812 | 1.043159 | -0.6070042 |  0.8614180 |  1.6699206 |  2.33218146 | -0.248535936 |  0.3270334 | 0 | 0 | 1 | 0 | 0 | 358500 |\n",
       "| 3 | -1.332794 | 1.038478 |  1.8561366 | -0.8207575 | -0.8436165 |  1.78265622 | -0.052900657 |  1.1555925 | 0 | 0 | 1 | 0 | 0 | 352100 |\n",
       "| 4 | -1.337785 | 1.038478 |  1.8561366 | -0.7660095 | -0.7337637 |  0.93294491 | -0.053646030 |  0.1569623 | 0 | 0 | 1 | 0 | 0 | 341300 |\n",
       "| 5 | -1.337785 | 1.038478 |  1.8561366 | -0.7598283 | -0.6291419 | -0.01288068 | -0.038194658 |  0.3447024 | 0 | 0 | 1 | 0 | 0 | 342200 |\n",
       "| 6 | -1.337785 | 1.038478 |  1.8561366 | -0.8940491 | -0.8017678 |  0.08744452 |  0.005232996 | -0.2697231 | 0 | 0 | 1 | 0 | 0 | 269700 |\n",
       "\n"
      ],
      "text/plain": [
       "  longitude latitude housing_median_age population households median_income\n",
       "1 -1.327803 1.052523  0.9821189         -0.9744050 -0.9770092  2.34470896  \n",
       "2 -1.322812 1.043159 -0.6070042          0.8614180  1.6699206  2.33218146  \n",
       "3 -1.332794 1.038478  1.8561366         -0.8207575 -0.8436165  1.78265622  \n",
       "4 -1.337785 1.038478  1.8561366         -0.7660095 -0.7337637  0.93294491  \n",
       "5 -1.337785 1.038478  1.8561366         -0.7598283 -0.6291419 -0.01288068  \n",
       "6 -1.337785 1.038478  1.8561366         -0.8940491 -0.8017678  0.08744452  \n",
       "  mean_bedrooms mean_rooms one_H_OCEAN INLAND NEAR_BAY NEAR_OCEAN ISLAND\n",
       "1 -0.148510661   0.6285442 0           0      1        0          0     \n",
       "2 -0.248535936   0.3270334 0           0      1        0          0     \n",
       "3 -0.052900657   1.1555925 0           0      1        0          0     \n",
       "4 -0.053646030   0.1569623 0           0      1        0          0     \n",
       "5 -0.038194658   0.3447024 0           0      1        0          0     \n",
       "6  0.005232996  -0.2697231 0           0      1        0          0     \n",
       "  median_house_value\n",
       "1 452600            \n",
       "2 358500            \n",
       "3 352100            \n",
       "4 341300            \n",
       "5 342200            \n",
       "6 269700            "
      ]
     },
     "metadata": {},
     "output_type": "display_data"
    }
   ],
   "source": [
    "head(training_set)"
   ]
  },
  {
   "cell_type": "code",
   "execution_count": 21,
   "id": "018f7fc8",
   "metadata": {},
   "outputs": [
    {
     "data": {
      "text/html": [
       "<table class=\"dataframe\">\n",
       "<caption>A data.frame: 6 × 14</caption>\n",
       "<thead>\n",
       "\t<tr><th></th><th scope=col>longitude</th><th scope=col>latitude</th><th scope=col>housing_median_age</th><th scope=col>population</th><th scope=col>households</th><th scope=col>median_income</th><th scope=col>mean_bedrooms</th><th scope=col>mean_rooms</th><th scope=col>one_H_OCEAN</th><th scope=col>INLAND</th><th scope=col>NEAR_BAY</th><th scope=col>NEAR_OCEAN</th><th scope=col>ISLAND</th><th scope=col>median_house_value</th></tr>\n",
       "\t<tr><th></th><th scope=col>&lt;dbl&gt;</th><th scope=col>&lt;dbl&gt;</th><th scope=col>&lt;dbl&gt;</th><th scope=col>&lt;dbl&gt;</th><th scope=col>&lt;dbl&gt;</th><th scope=col>&lt;dbl&gt;</th><th scope=col>&lt;dbl&gt;</th><th scope=col>&lt;dbl&gt;</th><th scope=col>&lt;dbl&gt;</th><th scope=col>&lt;dbl&gt;</th><th scope=col>&lt;dbl&gt;</th><th scope=col>&lt;dbl&gt;</th><th scope=col>&lt;dbl&gt;</th><th scope=col>&lt;dbl&gt;</th></tr>\n",
       "</thead>\n",
       "<tbody>\n",
       "\t<tr><th scope=row>17</th><td>-1.347768</td><td>1.038478</td><td> 1.85613656</td><td>-0.55849704</td><td>-0.4408228</td><td>-0.57672306</td><td>-0.10126340</td><td> 0.2063628</td><td>0</td><td>0</td><td>1</td><td>0</td><td>0</td><td>152500</td></tr>\n",
       "\t<tr><th scope=row>48</th><td>-1.347768</td><td>1.024432</td><td> 1.14103117</td><td>-0.76600950</td><td>-0.6448352</td><td>-1.12424812</td><td> 0.25481860</td><td>-0.5855542</td><td>0</td><td>0</td><td>1</td><td>0</td><td>0</td><td>137500</td></tr>\n",
       "\t<tr><th scope=row>53</th><td>-1.347768</td><td>1.024432</td><td> 0.98211887</td><td> 0.47111797</td><td> 0.5766235</td><td>-1.45270000</td><td> 0.16143806</td><td>-0.3861446</td><td>0</td><td>0</td><td>1</td><td>0</td><td>0</td><td> 97500</td></tr>\n",
       "\t<tr><th scope=row>88</th><td>-1.347768</td><td>1.019751</td><td>-1.48102190</td><td>-0.77660588</td><td>-0.4434384</td><td>-1.63734890</td><td>-0.08930736</td><td>-1.1225910</td><td>0</td><td>0</td><td>1</td><td>0</td><td>0</td><td>162500</td></tr>\n",
       "\t<tr><th scope=row>94</th><td>-1.347768</td><td>1.010387</td><td>-0.13026729</td><td>-0.62472442</td><td>-0.5166736</td><td>-0.65020364</td><td> 0.09264296</td><td>-0.7823310</td><td>0</td><td>0</td><td>1</td><td>0</td><td>0</td><td>187500</td></tr>\n",
       "\t<tr><th scope=row>110</th><td>-1.337785</td><td>1.024432</td><td>-0.05081113</td><td> 0.08346704</td><td> 0.7910980</td><td> 0.01875386</td><td>-0.06708039</td><td>-0.5125558</td><td>0</td><td>0</td><td>1</td><td>0</td><td>0</td><td>225000</td></tr>\n",
       "</tbody>\n",
       "</table>\n"
      ],
      "text/latex": [
       "A data.frame: 6 × 14\n",
       "\\begin{tabular}{r|llllllllllllll}\n",
       "  & longitude & latitude & housing\\_median\\_age & population & households & median\\_income & mean\\_bedrooms & mean\\_rooms & one\\_H\\_OCEAN & INLAND & NEAR\\_BAY & NEAR\\_OCEAN & ISLAND & median\\_house\\_value\\\\\n",
       "  & <dbl> & <dbl> & <dbl> & <dbl> & <dbl> & <dbl> & <dbl> & <dbl> & <dbl> & <dbl> & <dbl> & <dbl> & <dbl> & <dbl>\\\\\n",
       "\\hline\n",
       "\t17 & -1.347768 & 1.038478 &  1.85613656 & -0.55849704 & -0.4408228 & -0.57672306 & -0.10126340 &  0.2063628 & 0 & 0 & 1 & 0 & 0 & 152500\\\\\n",
       "\t48 & -1.347768 & 1.024432 &  1.14103117 & -0.76600950 & -0.6448352 & -1.12424812 &  0.25481860 & -0.5855542 & 0 & 0 & 1 & 0 & 0 & 137500\\\\\n",
       "\t53 & -1.347768 & 1.024432 &  0.98211887 &  0.47111797 &  0.5766235 & -1.45270000 &  0.16143806 & -0.3861446 & 0 & 0 & 1 & 0 & 0 &  97500\\\\\n",
       "\t88 & -1.347768 & 1.019751 & -1.48102190 & -0.77660588 & -0.4434384 & -1.63734890 & -0.08930736 & -1.1225910 & 0 & 0 & 1 & 0 & 0 & 162500\\\\\n",
       "\t94 & -1.347768 & 1.010387 & -0.13026729 & -0.62472442 & -0.5166736 & -0.65020364 &  0.09264296 & -0.7823310 & 0 & 0 & 1 & 0 & 0 & 187500\\\\\n",
       "\t110 & -1.337785 & 1.024432 & -0.05081113 &  0.08346704 &  0.7910980 &  0.01875386 & -0.06708039 & -0.5125558 & 0 & 0 & 1 & 0 & 0 & 225000\\\\\n",
       "\\end{tabular}\n"
      ],
      "text/markdown": [
       "\n",
       "A data.frame: 6 × 14\n",
       "\n",
       "| <!--/--> | longitude &lt;dbl&gt; | latitude &lt;dbl&gt; | housing_median_age &lt;dbl&gt; | population &lt;dbl&gt; | households &lt;dbl&gt; | median_income &lt;dbl&gt; | mean_bedrooms &lt;dbl&gt; | mean_rooms &lt;dbl&gt; | one_H_OCEAN &lt;dbl&gt; | INLAND &lt;dbl&gt; | NEAR_BAY &lt;dbl&gt; | NEAR_OCEAN &lt;dbl&gt; | ISLAND &lt;dbl&gt; | median_house_value &lt;dbl&gt; |\n",
       "|---|---|---|---|---|---|---|---|---|---|---|---|---|---|---|\n",
       "| 17 | -1.347768 | 1.038478 |  1.85613656 | -0.55849704 | -0.4408228 | -0.57672306 | -0.10126340 |  0.2063628 | 0 | 0 | 1 | 0 | 0 | 152500 |\n",
       "| 48 | -1.347768 | 1.024432 |  1.14103117 | -0.76600950 | -0.6448352 | -1.12424812 |  0.25481860 | -0.5855542 | 0 | 0 | 1 | 0 | 0 | 137500 |\n",
       "| 53 | -1.347768 | 1.024432 |  0.98211887 |  0.47111797 |  0.5766235 | -1.45270000 |  0.16143806 | -0.3861446 | 0 | 0 | 1 | 0 | 0 |  97500 |\n",
       "| 88 | -1.347768 | 1.019751 | -1.48102190 | -0.77660588 | -0.4434384 | -1.63734890 | -0.08930736 | -1.1225910 | 0 | 0 | 1 | 0 | 0 | 162500 |\n",
       "| 94 | -1.347768 | 1.010387 | -0.13026729 | -0.62472442 | -0.5166736 | -0.65020364 |  0.09264296 | -0.7823310 | 0 | 0 | 1 | 0 | 0 | 187500 |\n",
       "| 110 | -1.337785 | 1.024432 | -0.05081113 |  0.08346704 |  0.7910980 |  0.01875386 | -0.06708039 | -0.5125558 | 0 | 0 | 1 | 0 | 0 | 225000 |\n",
       "\n"
      ],
      "text/plain": [
       "    longitude latitude housing_median_age population  households median_income\n",
       "17  -1.347768 1.038478  1.85613656        -0.55849704 -0.4408228 -0.57672306  \n",
       "48  -1.347768 1.024432  1.14103117        -0.76600950 -0.6448352 -1.12424812  \n",
       "53  -1.347768 1.024432  0.98211887         0.47111797  0.5766235 -1.45270000  \n",
       "88  -1.347768 1.019751 -1.48102190        -0.77660588 -0.4434384 -1.63734890  \n",
       "94  -1.347768 1.010387 -0.13026729        -0.62472442 -0.5166736 -0.65020364  \n",
       "110 -1.337785 1.024432 -0.05081113         0.08346704  0.7910980  0.01875386  \n",
       "    mean_bedrooms mean_rooms one_H_OCEAN INLAND NEAR_BAY NEAR_OCEAN ISLAND\n",
       "17  -0.10126340    0.2063628 0           0      1        0          0     \n",
       "48   0.25481860   -0.5855542 0           0      1        0          0     \n",
       "53   0.16143806   -0.3861446 0           0      1        0          0     \n",
       "88  -0.08930736   -1.1225910 0           0      1        0          0     \n",
       "94   0.09264296   -0.7823310 0           0      1        0          0     \n",
       "110 -0.06708039   -0.5125558 0           0      1        0          0     \n",
       "    median_house_value\n",
       "17  152500            \n",
       "48  137500            \n",
       "53   97500            \n",
       "88  162500            \n",
       "94  187500            \n",
       "110 225000            "
      ]
     },
     "metadata": {},
     "output_type": "display_data"
    }
   ],
   "source": [
    "head(test_set)"
   ]
  },
  {
   "cell_type": "markdown",
   "id": "ef2d1f4b",
   "metadata": {},
   "source": [
    "<h1>Create Model </h1>"
   ]
  },
  {
   "cell_type": "code",
   "execution_count": null,
   "id": "b659eb4e",
   "metadata": {},
   "outputs": [],
   "source": [
    "library(randomForest)\n",
    "\n",
    "rf_model <- randomForest(x = training_set[, names(training_set) !='median_house_value'],\n",
    "                         y = training_set$median_house_value,importance =T)"
   ]
  },
  {
   "cell_type": "code",
   "execution_count": null,
   "id": "2160cd23",
   "metadata": {},
   "outputs": [],
   "source": [
    "print(rf_model)"
   ]
  },
  {
   "cell_type": "code",
   "execution_count": null,
   "id": "5dd8e153",
   "metadata": {},
   "outputs": [],
   "source": [
    "#install.packages(\"caret\")\n",
    "library(caret)\n"
   ]
  }
 ],
 "metadata": {
  "kernelspec": {
   "display_name": "R",
   "language": "R",
   "name": "ir"
  },
  "language_info": {
   "codemirror_mode": "r",
   "file_extension": ".r",
   "mimetype": "text/x-r-source",
   "name": "R",
   "pygments_lexer": "r",
   "version": "4.1.2"
  }
 },
 "nbformat": 4,
 "nbformat_minor": 5
}
